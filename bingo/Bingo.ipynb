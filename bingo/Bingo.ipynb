{
 "cells": [
  {
   "cell_type": "code",
   "execution_count": 1,
   "id": "efb35f9d-79d8-4cdb-85a2-3721a8ccfc4a",
   "metadata": {},
   "outputs": [],
   "source": [
    "import numpy as np"
   ]
  },
  {
   "cell_type": "code",
   "execution_count": 2,
   "id": "ad464f24-4728-4739-aada-c667f627443d",
   "metadata": {},
   "outputs": [],
   "source": [
    "n_balls = 7"
   ]
  },
  {
   "cell_type": "code",
   "execution_count": 3,
   "id": "15bf0d13-2177-4732-9256-6e5eaf6359d0",
   "metadata": {},
   "outputs": [],
   "source": [
    "from numpy.random import default_rng\n",
    "\n",
    "#rng = default_rng()\n",
    "numbers =np.arange(1, 90 + 1)"
   ]
  },
  {
   "cell_type": "code",
   "execution_count": 4,
   "id": "787cbd9a-3191-454d-8125-ec3688c26cf6",
   "metadata": {},
   "outputs": [],
   "source": [
    "#balls = np.random.choice(np.arange(1, n_balls + 1), size = n_balls, replace = False)# (n_balls,100))\n",
    "balls = np.random.choice(numbers, size = n_balls, replace = False)# (n_balls,100))"
   ]
  },
  {
   "cell_type": "code",
   "execution_count": 5,
   "id": "c5f1ee26-a7c3-4187-a6b0-2af34e36d8f8",
   "metadata": {},
   "outputs": [
    {
     "data": {
      "text/plain": [
       "array([11, 65, 64,  8, 61, 79, 47])"
      ]
     },
     "execution_count": 5,
     "metadata": {},
     "output_type": "execute_result"
    }
   ],
   "source": [
    "balls"
   ]
  },
  {
   "cell_type": "code",
   "execution_count": 6,
   "id": "ae98ac29-cc7a-460d-bae4-4d4689e708c4",
   "metadata": {},
   "outputs": [],
   "source": [
    "from math import comb"
   ]
  },
  {
   "cell_type": "code",
   "execution_count": 8,
   "id": "f86caefb-5c10-4b60-a4a1-8c6d64ab0fbd",
   "metadata": {},
   "outputs": [
    {
     "data": {
      "text/plain": [
       "0.3"
      ]
     },
     "execution_count": 8,
     "metadata": {},
     "output_type": "execute_result"
    }
   ],
   "source": [
    "comb(5 - 2,3 - 2)/comb(5,2)"
   ]
  },
  {
   "cell_type": "code",
   "execution_count": 9,
   "id": "74fe8345-dc94-4083-8e3b-78b2f9507c1c",
   "metadata": {},
   "outputs": [],
   "source": [
    "from matplotlib import pyplot as plt"
   ]
  },
  {
   "cell_type": "code",
   "execution_count": 10,
   "id": "54c98c91-8fdf-4fd5-904b-65af16be5734",
   "metadata": {},
   "outputs": [],
   "source": [
    "from itertools import combinations"
   ]
  },
  {
   "cell_type": "markdown",
   "id": "4895b344-9c54-4bfc-8be3-a4d564843283",
   "metadata": {},
   "source": [
    "Probabilidad de que al sacar k bolas de n bolas posibles, \n",
    "el conjunto de k bolas contenga las d bolas que yo ya tengo.\n",
    "\n",
    "Tesis:\n",
    "\n",
    "p = comb(n - d,k - d)/comb(n,k)"
   ]
  },
  {
   "cell_type": "code",
   "execution_count": 11,
   "id": "b38d960c-027e-4587-99a3-593295dd30ac",
   "metadata": {},
   "outputs": [],
   "source": [
    "n = 90\n",
    "k = 15\n",
    "d = 15\n",
    "probs = {}\n",
    "for k in range(k, n+1):\n",
    "    probs[k] = comb(n - d,k - d)/comb(n,k)\n",
    "    \n",
    "    "
   ]
  },
  {
   "cell_type": "markdown",
   "id": "b0ee25e3-8837-422e-9b9c-6e65b218855f",
   "metadata": {},
   "source": [
    "xpected number of calls before a player wins, according to the number of players. The more players the faster the game.  This means that for 10 players it takes 25 calls to get a house. This falls to 18 calls for 50 players, 15 calls for 100 players, 13 for 200 players, 11 for 500 players and 10 for 1,000 players. "
   ]
  },
  {
   "cell_type": "code",
   "execution_count": 12,
   "id": "bd10deae-6afb-4de9-aaaf-f67975523f9f",
   "metadata": {},
   "outputs": [
    {
     "data": {
      "text/plain": [
       "4.9149392950668864e-05"
      ]
     },
     "execution_count": 12,
     "metadata": {},
     "output_type": "execute_result"
    }
   ],
   "source": [
    "probs[50]"
   ]
  },
  {
   "cell_type": "code",
   "execution_count": 13,
   "id": "f2d11225-a6fb-4772-9f51-e8e11a48a563",
   "metadata": {},
   "outputs": [
    {
     "data": {
      "text/plain": [
       "85.58823529411765"
      ]
     },
     "execution_count": 13,
     "metadata": {},
     "output_type": "execute_result"
    }
   ],
   "source": [
    "exp = 0\n",
    "for n, p in probs.items():\n",
    "    exp += n*p\n",
    "exp/sum(probs.values())"
   ]
  },
  {
   "cell_type": "code",
   "execution_count": 18,
   "id": "bd9df39f-c657-4c66-8e8e-4e1cd17b58c2",
   "metadata": {},
   "outputs": [
    {
     "data": {
      "text/plain": [
       "[<matplotlib.lines.Line2D at 0x7f78288cf0d0>]"
      ]
     },
     "execution_count": 18,
     "metadata": {},
     "output_type": "execute_result"
    },
    {
     "data": {
      "image/png": "[encoded data removed]",
      "text/plain": [
       "<Figure size 432x288 with 1 Axes>"
      ]
     },
     "metadata": {
      "needs_background": "light"
     },
     "output_type": "display_data"
    }
   ],
   "source": [
    "plt.plot(probs.keys(), probs.values())"
   ]
  },
  {
   "cell_type": "markdown",
   "id": "275dd508-1042-4919-aa20-0ecca73251df",
   "metadata": {},
   "source": [
    "Cual es la distribución de probabilidad de que alguien gane en la tirada x?"
   ]
  },
  {
   "cell_type": "code",
   "execution_count": 15,
   "id": "67fc2dd9-68c2-4e07-975f-ea1f7c7639b1",
   "metadata": {},
   "outputs": [],
   "source": [
    "a = [1,2,3]"
   ]
  },
  {
   "cell_type": "code",
   "execution_count": 16,
   "id": "4e01aca5-8df0-4969-af66-2066a2048c73",
   "metadata": {},
   "outputs": [],
   "source": [
    "s = a+a+a+a+a+a+a+a+a+a+a"
   ]
  },
  {
   "cell_type": "code",
   "execution_count": null,
   "id": "3573bb10-6984-4a54-a0fa-52cb073046bb",
   "metadata": {},
   "outputs": [],
   "source": [
    "a.pop("
   ]
  },
  {
   "cell_type": "code",
   "execution_count": 74,
   "id": "ad5329a9-0cc8-4681-a480-f6bc26860fb5",
   "metadata": {},
   "outputs": [],
   "source": [
    "b = a.copy()"
   ]
  },
  {
   "cell_type": "code",
   "execution_count": 20,
   "id": "f798650a-c9fb-4ec8-ad14-8101134cf86f",
   "metadata": {},
   "outputs": [
    {
     "data": {
      "text/plain": [
       "15504"
      ]
     },
     "execution_count": 20,
     "metadata": {},
     "output_type": "execute_result"
    }
   ],
   "source": [
    "comb(n,k)"
   ]
  },
  {
   "cell_type": "code",
   "execution_count": 21,
   "id": "37b9ed00-f94a-4851-a298-48c6b11e2d05",
   "metadata": {},
   "outputs": [],
   "source": [
    "comb_generator = combinations(range(1,n+1),k)"
   ]
  },
  {
   "cell_type": "code",
   "execution_count": 26,
   "id": "d9e144f6-479a-41e5-a42c-47b5738672ec",
   "metadata": {},
   "outputs": [],
   "source": [
    "my_set = set(range(1, d + 1))\n",
    "outcomes = list(combinations(range(1,n+1),k))"
   ]
  },
  {
   "cell_type": "code",
   "execution_count": 27,
   "id": "d5eba53b-906c-4105-b3ef-0b2205b6647a",
   "metadata": {},
   "outputs": [
    {
     "data": {
      "text/plain": [
       "0.5526315789473685"
      ]
     },
     "execution_count": 27,
     "metadata": {},
     "output_type": "execute_result"
    }
   ],
   "source": [
    "count = 0\n",
    "for o in outcomes:\n",
    "    if not (my_set - set(o)):\n",
    "        count+=1\n",
    "p = count/len(outcomes)\n",
    "p"
   ]
  },
  {
   "cell_type": "code",
   "execution_count": 75,
   "id": "f6fd61a9-dc31-4d88-a4f0-b0e1701e059f",
   "metadata": {},
   "outputs": [],
   "source": [
    "# Starting code\n",
    "\n",
    "import numpy as np\n",
    "\n",
    "def mutual_information(arr):\n",
    "    return 1."
   ]
  },
  {
   "cell_type": "code",
   "execution_count": 76,
   "id": "0e69a083-a59b-4b00-a1bb-b554ab930ad2",
   "metadata": {},
   "outputs": [
    {
     "data": {
      "text/plain": [
       "33.333333333333336"
      ]
     },
     "execution_count": 76,
     "metadata": {},
     "output_type": "execute_result"
    }
   ],
   "source": [
    "100/3"
   ]
  },
  {
   "cell_type": "code",
   "execution_count": 19,
   "id": "70aa1330-4dc0-4e28-8fd6-b60dd5acf3e9",
   "metadata": {},
   "outputs": [],
   "source": [
    "arr = np.random.randint(0, 20, size = (10,5))"
   ]
  },
  {
   "cell_type": "code",
   "execution_count": 20,
   "id": "e6c2e12e-0d9e-4729-a709-3b615c08e794",
   "metadata": {},
   "outputs": [
    {
     "data": {
      "text/plain": [
       "array([[ 3,  8,  5, 13, 11],\n",
       "       [ 9, 15,  6,  8, 18],\n",
       "       [ 8,  5, 19, 12, 10],\n",
       "       [12, 14,  0, 11, 15],\n",
       "       [15,  7, 12,  5, 16],\n",
       "       [15, 12, 17, 12, 11],\n",
       "       [19, 11,  1, 10, 12],\n",
       "       [13,  9,  8, 10, 14],\n",
       "       [11, 17, 19,  3, 17],\n",
       "       [ 9,  7, 13,  0,  5]])"
      ]
     },
     "execution_count": 20,
     "metadata": {},
     "output_type": "execute_result"
    }
   ],
   "source": [
    "arr"
   ]
  },
  {
   "cell_type": "code",
   "execution_count": 21,
   "id": "2db919b1-7278-4355-8eaa-0d6a0a03c91b",
   "metadata": {},
   "outputs": [
    {
     "data": {
      "text/plain": [
       "array([114, 105, 100,  84, 129])"
      ]
     },
     "execution_count": 21,
     "metadata": {},
     "output_type": "execute_result"
    }
   ],
   "source": [
    "arr.sum(axis = 0)"
   ]
  },
  {
   "cell_type": "code",
   "execution_count": 88,
   "id": "8d2be82f-31ec-4f4d-b5dc-826c28e37a59",
   "metadata": {},
   "outputs": [],
   "source": [
    "def mutual_information(arr):\n",
    "    return (arr*np.log(arr + 1)).sum() \\\n",
    "    - (arr.sum(axis = 0) * np.log(arr.sum(axis = 0) + 1)).sum() \\\n",
    "    - (arr.sum(axis = 1) * np.log(arr.sum(axis = 1) + 1 )).sum()"
   ]
  },
  {
   "cell_type": "code",
   "execution_count": 89,
   "id": "fd9f096a-6f37-46b5-8b9f-4af5c8af5b5a",
   "metadata": {},
   "outputs": [
    {
     "data": {
      "text/plain": [
       "-2539.2410457693613"
      ]
     },
     "execution_count": 89,
     "metadata": {},
     "output_type": "execute_result"
    }
   ],
   "source": [
    "mutual_information(arr)"
   ]
  },
  {
   "cell_type": "code",
   "execution_count": 2,
   "id": "5c0b242c-d676-45e4-892b-d161372e074c",
   "metadata": {},
   "outputs": [],
   "source": [
    "import yfinance as yf"
   ]
  },
  {
   "cell_type": "code",
   "execution_count": 4,
   "id": "9657dfc2-794b-492c-a0a7-492c07e094aa",
   "metadata": {},
   "outputs": [
    {
     "name": "stdout",
     "output_type": "stream",
     "text": [
      "[*********************100%***********************]  1 of 1 completed\n"
     ]
    }
   ],
   "source": [
    "df = yf.download(\"AAPL\")"
   ]
  },
  {
   "cell_type": "code",
   "execution_count": null,
   "id": "522fb66d-1822-4808-a302-cdb1b9a2a4be",
   "metadata": {},
   "outputs": [],
   "source": []
  },
  {
   "cell_type": "code",
   "execution_count": 6,
   "id": "8b5e1be6-6a90-4e77-9964-1603ba4d2008",
   "metadata": {},
   "outputs": [],
   "source": [
    "df.to_csv(\"appl.csv\")"
   ]
  },
  {
   "cell_type": "code",
   "execution_count": 8,
   "id": "8a3a3140-448d-4206-aa93-dfd9b6e5379a",
   "metadata": {},
   "outputs": [],
   "source": [
    "import pandas as pd"
   ]
  },
  {
   "cell_type": "code",
   "execution_count": 34,
   "id": "2e7669a3-e225-4b24-95e3-af945d7b9bb3",
   "metadata": {},
   "outputs": [],
   "source": [
    "file = \"./appl.csv\""
   ]
  },
  {
   "cell_type": "code",
   "execution_count": 35,
   "id": "d6e01de9-c648-4b3b-9a01-2b2ec133b9b1",
   "metadata": {},
   "outputs": [],
   "source": [
    "df = pd.read_csv(file, index_col = \"Date\")\n",
    "df.index = pd.to_datetime(df.index)\n",
    "df[\"year\"] = df.index.year"
   ]
  },
  {
   "cell_type": "code",
   "execution_count": 36,
   "id": "f380bbe8-b0f0-4b80-bff2-ea9360c73333",
   "metadata": {},
   "outputs": [],
   "source": []
  },
  {
   "cell_type": "code",
   "execution_count": 56,
   "id": "d59aebe7-8bb2-4dbb-af01-38fca9b9dbfa",
   "metadata": {},
   "outputs": [
    {
     "data": {
      "text/html": [
       "<div>\n",
       "<style scoped>\n",
       "    .dataframe tbody tr th:only-of-type {\n",
       "        vertical-align: middle;\n",
       "    }\n",
       "\n",
       "    .dataframe tbody tr th {\n",
       "        vertical-align: top;\n",
       "    }\n",
       "\n",
       "    .dataframe thead th {\n",
       "        text-align: right;\n",
       "    }\n",
       "</style>\n",
       "<table border=\"1\" class=\"dataframe\">\n",
       "  <thead>\n",
       "    <tr style=\"text-align: right;\">\n",
       "      <th></th>\n",
       "      <th>Open</th>\n",
       "      <th>High</th>\n",
       "      <th>Low</th>\n",
       "      <th>Close</th>\n",
       "      <th>Adj Close</th>\n",
       "      <th>Volume</th>\n",
       "      <th>year</th>\n",
       "    </tr>\n",
       "    <tr>\n",
       "      <th>Date</th>\n",
       "      <th></th>\n",
       "      <th></th>\n",
       "      <th></th>\n",
       "      <th></th>\n",
       "      <th></th>\n",
       "      <th></th>\n",
       "      <th></th>\n",
       "    </tr>\n",
       "  </thead>\n",
       "  <tbody>\n",
       "    <tr>\n",
       "      <th>1980-12-12</th>\n",
       "      <td>0.128348</td>\n",
       "      <td>0.128906</td>\n",
       "      <td>0.128348</td>\n",
       "      <td>0.128348</td>\n",
       "      <td>0.100323</td>\n",
       "      <td>469033600</td>\n",
       "      <td>1980</td>\n",
       "    </tr>\n",
       "    <tr>\n",
       "      <th>1980-12-15</th>\n",
       "      <td>0.122210</td>\n",
       "      <td>0.122210</td>\n",
       "      <td>0.121652</td>\n",
       "      <td>0.121652</td>\n",
       "      <td>0.095089</td>\n",
       "      <td>175884800</td>\n",
       "      <td>1980</td>\n",
       "    </tr>\n",
       "    <tr>\n",
       "      <th>1980-12-16</th>\n",
       "      <td>0.113281</td>\n",
       "      <td>0.113281</td>\n",
       "      <td>0.112723</td>\n",
       "      <td>0.112723</td>\n",
       "      <td>0.088110</td>\n",
       "      <td>105728000</td>\n",
       "      <td>1980</td>\n",
       "    </tr>\n",
       "    <tr>\n",
       "      <th>1980-12-17</th>\n",
       "      <td>0.115513</td>\n",
       "      <td>0.116071</td>\n",
       "      <td>0.115513</td>\n",
       "      <td>0.115513</td>\n",
       "      <td>0.090291</td>\n",
       "      <td>86441600</td>\n",
       "      <td>1980</td>\n",
       "    </tr>\n",
       "    <tr>\n",
       "      <th>1980-12-18</th>\n",
       "      <td>0.118862</td>\n",
       "      <td>0.119420</td>\n",
       "      <td>0.118862</td>\n",
       "      <td>0.118862</td>\n",
       "      <td>0.092908</td>\n",
       "      <td>73449600</td>\n",
       "      <td>1980</td>\n",
       "    </tr>\n",
       "    <tr>\n",
       "      <th>...</th>\n",
       "      <td>...</td>\n",
       "      <td>...</td>\n",
       "      <td>...</td>\n",
       "      <td>...</td>\n",
       "      <td>...</td>\n",
       "      <td>...</td>\n",
       "      <td>...</td>\n",
       "    </tr>\n",
       "    <tr>\n",
       "      <th>2022-03-21</th>\n",
       "      <td>163.509995</td>\n",
       "      <td>166.350006</td>\n",
       "      <td>163.009995</td>\n",
       "      <td>165.380005</td>\n",
       "      <td>165.380005</td>\n",
       "      <td>95811400</td>\n",
       "      <td>2022</td>\n",
       "    </tr>\n",
       "    <tr>\n",
       "      <th>2022-03-22</th>\n",
       "      <td>165.509995</td>\n",
       "      <td>169.419998</td>\n",
       "      <td>164.910004</td>\n",
       "      <td>168.820007</td>\n",
       "      <td>168.820007</td>\n",
       "      <td>81532000</td>\n",
       "      <td>2022</td>\n",
       "    </tr>\n",
       "    <tr>\n",
       "      <th>2022-03-23</th>\n",
       "      <td>167.990005</td>\n",
       "      <td>172.639999</td>\n",
       "      <td>167.649994</td>\n",
       "      <td>170.210007</td>\n",
       "      <td>170.210007</td>\n",
       "      <td>98062700</td>\n",
       "      <td>2022</td>\n",
       "    </tr>\n",
       "    <tr>\n",
       "      <th>2022-03-24</th>\n",
       "      <td>171.059998</td>\n",
       "      <td>174.139999</td>\n",
       "      <td>170.210007</td>\n",
       "      <td>174.070007</td>\n",
       "      <td>174.070007</td>\n",
       "      <td>90131400</td>\n",
       "      <td>2022</td>\n",
       "    </tr>\n",
       "    <tr>\n",
       "      <th>2022-03-25</th>\n",
       "      <td>173.880005</td>\n",
       "      <td>175.279999</td>\n",
       "      <td>172.750000</td>\n",
       "      <td>174.720001</td>\n",
       "      <td>174.720001</td>\n",
       "      <td>80546156</td>\n",
       "      <td>2022</td>\n",
       "    </tr>\n",
       "  </tbody>\n",
       "</table>\n",
       "<p>10410 rows × 7 columns</p>\n",
       "</div>"
      ],
      "text/plain": [
       "                  Open        High         Low       Close   Adj Close  \\\n",
       "Date                                                                     \n",
       "1980-12-12    0.128348    0.128906    0.128348    0.128348    0.100323   \n",
       "1980-12-15    0.122210    0.122210    0.121652    0.121652    0.095089   \n",
       "1980-12-16    0.113281    0.113281    0.112723    0.112723    0.088110   \n",
       "1980-12-17    0.115513    0.116071    0.115513    0.115513    0.090291   \n",
       "1980-12-18    0.118862    0.119420    0.118862    0.118862    0.092908   \n",
       "...                ...         ...         ...         ...         ...   \n",
       "2022-03-21  163.509995  166.350006  163.009995  165.380005  165.380005   \n",
       "2022-03-22  165.509995  169.419998  164.910004  168.820007  168.820007   \n",
       "2022-03-23  167.990005  172.639999  167.649994  170.210007  170.210007   \n",
       "2022-03-24  171.059998  174.139999  170.210007  174.070007  174.070007   \n",
       "2022-03-25  173.880005  175.279999  172.750000  174.720001  174.720001   \n",
       "\n",
       "               Volume  year  \n",
       "Date                         \n",
       "1980-12-12  469033600  1980  \n",
       "1980-12-15  175884800  1980  \n",
       "1980-12-16  105728000  1980  \n",
       "1980-12-17   86441600  1980  \n",
       "1980-12-18   73449600  1980  \n",
       "...               ...   ...  \n",
       "2022-03-21   95811400  2022  \n",
       "2022-03-22   81532000  2022  \n",
       "2022-03-23   98062700  2022  \n",
       "2022-03-24   90131400  2022  \n",
       "2022-03-25   80546156  2022  \n",
       "\n",
       "[10410 rows x 7 columns]"
      ]
     },
     "execution_count": 56,
     "metadata": {},
     "output_type": "execute_result"
    }
   ],
   "source": [
    "df"
   ]
  },
  {
   "cell_type": "code",
   "execution_count": 57,
   "id": "61469624-176f-4232-aec3-d9d34b5c64e5",
   "metadata": {},
   "outputs": [],
   "source": [
    "#df.groupby(\"year\").transform(\"max\")"
   ]
  },
  {
   "cell_type": "code",
   "execution_count": 58,
   "id": "a9095a16-0ca0-4095-97b3-849cec7d293d",
   "metadata": {},
   "outputs": [],
   "source": [
    "max_values = df.groupby(\"year\").max().reset_index()[[\"Volume\", \"year\"]]\n",
    "\n",
    "merge = pd.merge(df.reset_index(), max_values, on = [\"Volume\", \"year\"])"
   ]
  },
  {
   "cell_type": "code",
   "execution_count": 64,
   "id": "01ecefa1-565d-4431-bad8-923b76b18f42",
   "metadata": {},
   "outputs": [],
   "source": [
    "max_close = df.groupby(\"year\").max().reset_index()[[\"Close\", \"year\"]]\n",
    "merge = pd.merge(df.reset_index(), max_close, on = [\"Close\", \"year\"])"
   ]
  },
  {
   "cell_type": "code",
   "execution_count": 61,
   "id": "004c0149-055e-4a39-af95-372e514968e5",
   "metadata": {},
   "outputs": [
    {
     "data": {
      "text/html": [
       "<div>\n",
       "<style scoped>\n",
       "    .dataframe tbody tr th:only-of-type {\n",
       "        vertical-align: middle;\n",
       "    }\n",
       "\n",
       "    .dataframe tbody tr th {\n",
       "        vertical-align: top;\n",
       "    }\n",
       "\n",
       "    .dataframe thead th {\n",
       "        text-align: right;\n",
       "    }\n",
       "</style>\n",
       "<table border=\"1\" class=\"dataframe\">\n",
       "  <thead>\n",
       "    <tr style=\"text-align: right;\">\n",
       "      <th></th>\n",
       "      <th>Date</th>\n",
       "      <th>Volume</th>\n",
       "    </tr>\n",
       "  </thead>\n",
       "  <tbody>\n",
       "    <tr>\n",
       "      <th>0</th>\n",
       "      <td>1980-12-12</td>\n",
       "      <td>469033600</td>\n",
       "    </tr>\n",
       "    <tr>\n",
       "      <th>1</th>\n",
       "      <td>1981-03-13</td>\n",
       "      <td>231302400</td>\n",
       "    </tr>\n",
       "    <tr>\n",
       "      <th>2</th>\n",
       "      <td>1982-08-25</td>\n",
       "      <td>357078400</td>\n",
       "    </tr>\n",
       "    <tr>\n",
       "      <th>3</th>\n",
       "      <td>1983-09-23</td>\n",
       "      <td>2832345600</td>\n",
       "    </tr>\n",
       "    <tr>\n",
       "      <th>4</th>\n",
       "      <td>1984-08-06</td>\n",
       "      <td>626796800</td>\n",
       "    </tr>\n",
       "    <tr>\n",
       "      <th>5</th>\n",
       "      <td>1985-03-07</td>\n",
       "      <td>733980800</td>\n",
       "    </tr>\n",
       "    <tr>\n",
       "      <th>6</th>\n",
       "      <td>1986-03-20</td>\n",
       "      <td>904131200</td>\n",
       "    </tr>\n",
       "    <tr>\n",
       "      <th>7</th>\n",
       "      <td>1987-04-02</td>\n",
       "      <td>777280000</td>\n",
       "    </tr>\n",
       "    <tr>\n",
       "      <th>8</th>\n",
       "      <td>1988-01-20</td>\n",
       "      <td>680960000</td>\n",
       "    </tr>\n",
       "    <tr>\n",
       "      <th>9</th>\n",
       "      <td>1989-01-27</td>\n",
       "      <td>2127171200</td>\n",
       "    </tr>\n",
       "    <tr>\n",
       "      <th>10</th>\n",
       "      <td>1990-10-19</td>\n",
       "      <td>933732800</td>\n",
       "    </tr>\n",
       "    <tr>\n",
       "      <th>11</th>\n",
       "      <td>1991-05-01</td>\n",
       "      <td>1868372800</td>\n",
       "    </tr>\n",
       "    <tr>\n",
       "      <th>12</th>\n",
       "      <td>1992-01-17</td>\n",
       "      <td>848355200</td>\n",
       "    </tr>\n",
       "    <tr>\n",
       "      <th>13</th>\n",
       "      <td>1993-07-16</td>\n",
       "      <td>2120596800</td>\n",
       "    </tr>\n",
       "    <tr>\n",
       "      <th>14</th>\n",
       "      <td>1994-01-21</td>\n",
       "      <td>980134400</td>\n",
       "    </tr>\n",
       "    <tr>\n",
       "      <th>15</th>\n",
       "      <td>1995-09-15</td>\n",
       "      <td>1211963200</td>\n",
       "    </tr>\n",
       "    <tr>\n",
       "      <th>16</th>\n",
       "      <td>1996-10-17</td>\n",
       "      <td>1026625600</td>\n",
       "    </tr>\n",
       "    <tr>\n",
       "      <th>17</th>\n",
       "      <td>1997-08-06</td>\n",
       "      <td>4190480000</td>\n",
       "    </tr>\n",
       "    <tr>\n",
       "      <th>18</th>\n",
       "      <td>1998-07-16</td>\n",
       "      <td>2561350400</td>\n",
       "    </tr>\n",
       "    <tr>\n",
       "      <th>19</th>\n",
       "      <td>1999-09-21</td>\n",
       "      <td>3357558400</td>\n",
       "    </tr>\n",
       "    <tr>\n",
       "      <th>20</th>\n",
       "      <td>2000-09-29</td>\n",
       "      <td>7421640800</td>\n",
       "    </tr>\n",
       "    <tr>\n",
       "      <th>21</th>\n",
       "      <td>2001-04-19</td>\n",
       "      <td>1873670400</td>\n",
       "    </tr>\n",
       "    <tr>\n",
       "      <th>22</th>\n",
       "      <td>2002-06-19</td>\n",
       "      <td>1709467200</td>\n",
       "    </tr>\n",
       "    <tr>\n",
       "      <th>23</th>\n",
       "      <td>2003-05-05</td>\n",
       "      <td>1555708000</td>\n",
       "    </tr>\n",
       "    <tr>\n",
       "      <th>24</th>\n",
       "      <td>2004-10-14</td>\n",
       "      <td>2768427200</td>\n",
       "    </tr>\n",
       "    <tr>\n",
       "      <th>25</th>\n",
       "      <td>2005-01-13</td>\n",
       "      <td>3164716800</td>\n",
       "    </tr>\n",
       "    <tr>\n",
       "      <th>26</th>\n",
       "      <td>2006-04-06</td>\n",
       "      <td>2663768800</td>\n",
       "    </tr>\n",
       "    <tr>\n",
       "      <th>27</th>\n",
       "      <td>2007-01-09</td>\n",
       "      <td>3349298400</td>\n",
       "    </tr>\n",
       "    <tr>\n",
       "      <th>28</th>\n",
       "      <td>2008-01-23</td>\n",
       "      <td>3372969600</td>\n",
       "    </tr>\n",
       "    <tr>\n",
       "      <th>29</th>\n",
       "      <td>2009-01-15</td>\n",
       "      <td>1831634000</td>\n",
       "    </tr>\n",
       "    <tr>\n",
       "      <th>30</th>\n",
       "      <td>2010-01-26</td>\n",
       "      <td>1867110000</td>\n",
       "    </tr>\n",
       "    <tr>\n",
       "      <th>31</th>\n",
       "      <td>2011-01-18</td>\n",
       "      <td>1880998000</td>\n",
       "    </tr>\n",
       "    <tr>\n",
       "      <th>32</th>\n",
       "      <td>2012-02-15</td>\n",
       "      <td>1506120000</td>\n",
       "    </tr>\n",
       "    <tr>\n",
       "      <th>33</th>\n",
       "      <td>2013-01-24</td>\n",
       "      <td>1460852400</td>\n",
       "    </tr>\n",
       "    <tr>\n",
       "      <th>34</th>\n",
       "      <td>2014-01-28</td>\n",
       "      <td>1065523200</td>\n",
       "    </tr>\n",
       "    <tr>\n",
       "      <th>35</th>\n",
       "      <td>2015-08-24</td>\n",
       "      <td>648825200</td>\n",
       "    </tr>\n",
       "    <tr>\n",
       "      <th>36</th>\n",
       "      <td>2016-01-27</td>\n",
       "      <td>533478800</td>\n",
       "    </tr>\n",
       "    <tr>\n",
       "      <th>37</th>\n",
       "      <td>2017-02-01</td>\n",
       "      <td>447940000</td>\n",
       "    </tr>\n",
       "    <tr>\n",
       "      <th>38</th>\n",
       "      <td>2018-09-21</td>\n",
       "      <td>384986800</td>\n",
       "    </tr>\n",
       "    <tr>\n",
       "      <th>39</th>\n",
       "      <td>2019-01-03</td>\n",
       "      <td>365248800</td>\n",
       "    </tr>\n",
       "    <tr>\n",
       "      <th>40</th>\n",
       "      <td>2020-02-28</td>\n",
       "      <td>426510000</td>\n",
       "    </tr>\n",
       "    <tr>\n",
       "      <th>41</th>\n",
       "      <td>2021-12-17</td>\n",
       "      <td>195432700</td>\n",
       "    </tr>\n",
       "    <tr>\n",
       "      <th>42</th>\n",
       "      <td>2022-01-28</td>\n",
       "      <td>179935700</td>\n",
       "    </tr>\n",
       "  </tbody>\n",
       "</table>\n",
       "</div>"
      ],
      "text/plain": [
       "         Date      Volume\n",
       "0  1980-12-12   469033600\n",
       "1  1981-03-13   231302400\n",
       "2  1982-08-25   357078400\n",
       "3  1983-09-23  2832345600\n",
       "4  1984-08-06   626796800\n",
       "5  1985-03-07   733980800\n",
       "6  1986-03-20   904131200\n",
       "7  1987-04-02   777280000\n",
       "8  1988-01-20   680960000\n",
       "9  1989-01-27  2127171200\n",
       "10 1990-10-19   933732800\n",
       "11 1991-05-01  1868372800\n",
       "12 1992-01-17   848355200\n",
       "13 1993-07-16  2120596800\n",
       "14 1994-01-21   980134400\n",
       "15 1995-09-15  1211963200\n",
       "16 1996-10-17  1026625600\n",
       "17 1997-08-06  4190480000\n",
       "18 1998-07-16  2561350400\n",
       "19 1999-09-21  3357558400\n",
       "20 2000-09-29  7421640800\n",
       "21 2001-04-19  1873670400\n",
       "22 2002-06-19  1709467200\n",
       "23 2003-05-05  1555708000\n",
       "24 2004-10-14  2768427200\n",
       "25 2005-01-13  3164716800\n",
       "26 2006-04-06  2663768800\n",
       "27 2007-01-09  3349298400\n",
       "28 2008-01-23  3372969600\n",
       "29 2009-01-15  1831634000\n",
       "30 2010-01-26  1867110000\n",
       "31 2011-01-18  1880998000\n",
       "32 2012-02-15  1506120000\n",
       "33 2013-01-24  1460852400\n",
       "34 2014-01-28  1065523200\n",
       "35 2015-08-24   648825200\n",
       "36 2016-01-27   533478800\n",
       "37 2017-02-01   447940000\n",
       "38 2018-09-21   384986800\n",
       "39 2019-01-03   365248800\n",
       "40 2020-02-28   426510000\n",
       "41 2021-12-17   195432700\n",
       "42 2022-01-28   179935700"
      ]
     },
     "execution_count": 61,
     "metadata": {},
     "output_type": "execute_result"
    }
   ],
   "source": [
    "merge[[\"Date\", \"Volume\"]].sort_values(\"Date\")"
   ]
  },
  {
   "cell_type": "code",
   "execution_count": 24,
   "id": "101f316e-88f9-40ac-9ef9-fb151039b56a",
   "metadata": {},
   "outputs": [
    {
     "data": {
      "text/plain": [
       "pandas._libs.tslibs.timestamps.Timestamp"
      ]
     },
     "execution_count": 24,
     "metadata": {},
     "output_type": "execute_result"
    }
   ],
   "source": [
    "type(df_compare.index[0])"
   ]
  },
  {
   "cell_type": "code",
   "execution_count": 25,
   "id": "4d3f023f-ed02-45e2-b8cc-68d814f58da7",
   "metadata": {},
   "outputs": [
    {
     "data": {
      "text/plain": [
       "DatetimeIndex(['1980-12-12', '1980-12-15', '1980-12-16', '1980-12-17',\n",
       "               '1980-12-18', '1980-12-19', '1980-12-22', '1980-12-23',\n",
       "               '1980-12-24', '1980-12-26',\n",
       "               ...\n",
       "               '2022-03-14', '2022-03-15', '2022-03-16', '2022-03-17',\n",
       "               '2022-03-18', '2022-03-21', '2022-03-22', '2022-03-23',\n",
       "               '2022-03-24', '2022-03-25'],\n",
       "              dtype='datetime64[ns]', name='Date', length=10410, freq=None)"
      ]
     },
     "execution_count": 25,
     "metadata": {},
     "output_type": "execute_result"
    }
   ],
   "source": []
  },
  {
   "cell_type": "code",
   "execution_count": null,
   "id": "c8fa01e3-c33d-4e1e-ba89-db25cde83ee1",
   "metadata": {},
   "outputs": [],
   "source": [
    "import numpy as np\n",
    "import pandas as pd\n",
    "\n",
    "\n",
    "def solution(files):\n",
    "    # files - any of available files, i.e:\n",
    "    # files = [\"./data/framp.csv\", \"./data/gnyned.csv\", \"./data/gwoomed.csv\",\n",
    "    #            \"./data/hoilled.csv\", \"./data/plent.csv\", \"./data/throwsh.csv\",\n",
    "    #            \"./data/twerche.csv\", \"./data/veeme.csv\"]\n",
    "\n",
    "    # write your solution here\n",
    "    output = []\n",
    "    for f in files:\n",
    "        df1, df2 = process_file(f)\n",
    "        output.append([df1,df2])\n",
    "    return output\n",
    "\n",
    "def process_file(f):\n",
    "    df = pd.read_csv(f, index_col = \"date\")\n",
    "    df.index = pd.to_datetime(df.index)\n",
    "    df[\"year\"] = df.index.year\n",
    "\n",
    "    max_values = df.groupby(\"year\").max().reset_index()\n",
    "    max_vol = max_values[[\"vol\", \"year\"]]\n",
    "    max_close = max_values[[\"close\", \"year\"]]\n",
    "    \n",
    "    pd.merge(df.reset_index(), max_values[[\"vol\", \"year\"]], on = [\"vol\", \"year\"])\n",
    "\n",
    "    compute_df = lambda col : pd.merge(df.reset_index(), max_values[[col \"year\"]], on = [col, \"year\"])\n",
    "\n",
    "    return compute_df(\"vol\"), compute_df2(\"close\")\n",
    "\n",
    "def compute_df(column):\n",
    "    \n",
    "    max_vol = df.groupby(\"year\").max().reset_index()[[\"vol\", \"year\"]]\n",
    "    merge = pd.merge(df.reset_index(), max_vol, on = [\"vol\", \"year\"])\n",
    "    return merge[[\"date\", \"vol\"]].sort_values(\"date\")\n",
    "\n",
    "def compute_df2(df):\n",
    "    max_close = df.groupby(\"year\").max().reset_index()[[\"close\", \"year\"]]\n",
    "    merge = pd.merge(df.reset_index(), max_close, on = [\"close\", \"year\"])\n",
    "    return merge[[\"date\", \"close\"]].sort_values(\"date\")\n",
    "\n",
    "\n",
    "\n",
    "\n"
   ]
  },
  {
   "cell_type": "code",
   "execution_count": null,
   "id": "0deca7da-73e1-4224-9fb0-838878305d61",
   "metadata": {},
   "outputs": [],
   "source": [
    "FUNCIONA"
   ]
  },
  {
   "cell_type": "code",
   "execution_count": 66,
   "id": "a0e03ef7-3705-4937-b8b6-6b6426b524b5",
   "metadata": {},
   "outputs": [
    {
     "ename": "NameError",
     "evalue": "name 'FUNCIONA' is not defined",
     "output_type": "error",
     "traceback": [
      "\u001b[0;31m---------------------------------------------------------------------------\u001b[0m",
      "\u001b[0;31mNameError\u001b[0m                                 Traceback (most recent call last)",
      "\u001b[0;32m/var/folders/cx/865gkv912xj3_mfvrtptff_r0000gp/T/ipykernel_60659/2227355518.py\u001b[0m in \u001b[0;36m<module>\u001b[0;34m\u001b[0m\n\u001b[1;32m      2\u001b[0m \u001b[0;32mimport\u001b[0m \u001b[0mpandas\u001b[0m \u001b[0;32mas\u001b[0m \u001b[0mpd\u001b[0m\u001b[0;34m\u001b[0m\u001b[0;34m\u001b[0m\u001b[0m\n\u001b[1;32m      3\u001b[0m \u001b[0;34m\u001b[0m\u001b[0m\n\u001b[0;32m----> 4\u001b[0;31m \u001b[0mFUNCIONA\u001b[0m\u001b[0;34m\u001b[0m\u001b[0;34m\u001b[0m\u001b[0m\n\u001b[0m\u001b[1;32m      5\u001b[0m \u001b[0;32mdef\u001b[0m \u001b[0msolution\u001b[0m\u001b[0;34m(\u001b[0m\u001b[0mfiles\u001b[0m\u001b[0;34m)\u001b[0m\u001b[0;34m:\u001b[0m\u001b[0;34m\u001b[0m\u001b[0;34m\u001b[0m\u001b[0m\n\u001b[1;32m      6\u001b[0m     \u001b[0;31m# files - any of available files, i.e:\u001b[0m\u001b[0;34m\u001b[0m\u001b[0;34m\u001b[0m\u001b[0;34m\u001b[0m\u001b[0m\n",
      "\u001b[0;31mNameError\u001b[0m: name 'FUNCIONA' is not defined"
     ]
    }
   ],
   "source": [
    "import numpy as np\n",
    "import pandas as pd\n",
    "\n",
    "\n",
    "def solution(files):\n",
    "    # files - any of available files, i.e:\n",
    "    # files = [\"./data/framp.csv\", \"./data/gnyned.csv\", \"./data/gwoomed.csv\",\n",
    "    #            \"./data/hoilled.csv\", \"./data/plent.csv\", \"./data/throwsh.csv\",\n",
    "    #            \"./data/twerche.csv\", \"./data/veeme.csv\"]\n",
    "\n",
    "    # write your solution here\n",
    "    output = []\n",
    "    for f in files:\n",
    "        df1, df2 = process_file(f)\n",
    "        output.append([df1,df2])\n",
    "    return output\n",
    "\n",
    "def process_file(f):\n",
    "    df = pd.read_csv(f, index_col = \"date\")\n",
    "    df.index = pd.to_datetime(df.index)\n",
    "    df[\"year\"] = df.index.year\n",
    "\n",
    "    return compute_df1(df), compute_df2(df)\n",
    "\n",
    "def compute_df1(df):\n",
    "    max_vol = df.groupby(\"year\").max().reset_index()[[\"vol\", \"year\"]]\n",
    "    merge = pd.merge(df.reset_index(), max_vol, on = [\"vol\", \"year\"])\n",
    "    return merge[[\"date\", \"vol\"]].sort_values(\"date\")\n",
    "\n",
    "def compute_df2(df):\n",
    "    max_close = df.groupby(\"year\").max().reset_index()[[\"close\", \"year\"]]\n",
    "    merge = pd.merge(df.reset_index(), max_close, on = [\"close\", \"year\"])\n",
    "    return merge[[\"date\", \"close\"]].sort_values(\"date\")"
   ]
  },
  {
   "cell_type": "code",
   "execution_count": 74,
   "id": "ee6ddd42-2b73-4d47-8c3e-9ab4eb2f4c8d",
   "metadata": {},
   "outputs": [],
   "source": [
    "S = \"\"\"photo.jpg, Warsaw, 2013-09-05 14:08:15\n",
    "john.png, London, 2015-06-20 15:13:22\n",
    "myFriends.png, Warsaw, 2013-09-05 14:07:13\n",
    "Eiffel.jpg, Paris, 2015-07-23 08:03:02\n",
    "pisatower.jpg, Paris, 2015-07-22 23:59:59\n",
    "BOB.jpg, London, 2015-08-05 00:02:03\n",
    "notredame.png, Paris, 2015-09-01 12:00:00\n",
    "me.jpg, Warsaw, 2013-09-06 15:40:22\n",
    "a.png, Warsaw, 2016-02-13 13:33:50\n",
    "b.jpg, Warsaw, 2016-01-02 15:12:22\n",
    "c.jpg, Warsaw, 2016-01-02 14:34:30\n",
    "d.jpg, Warsaw, 2016-01-02 15:15:01\n",
    "e.png, Warsaw, 2016-01-02 09:49:09\n",
    "f.png, Warsaw, 2016-01-02 10:55:32\n",
    "g.jpg, Warsaw, 2016-02-29 22:13:11\"\"\""
   ]
  },
  {
   "cell_type": "code",
   "execution_count": 68,
   "id": "86ff73fa-4f23-49f5-ab7f-e88422fecddd",
   "metadata": {},
   "outputs": [],
   "source": [
    "obj = \"\"\"\n",
    "Warsaw02.jpg\n",
    "London1.png\n",
    "Warsaw01.png\n",
    "Paris2.jpg\n",
    "Paris1.jpg\n",
    "London2.jpg\n",
    "Paris3.png\n",
    "Warsaw03.jpg\n",
    "Warsaw09.png\n",
    "Warsaw07.jpg\n",
    "Warsaw06.jpg\n",
    "Warsaw08.jpg\n",
    "Warsaw04.png\n",
    "Warsaw05.png\n",
    "Warsaw10.jpg\n",
    "\"\"\""
   ]
  },
  {
   "cell_type": "code",
   "execution_count": 70,
   "id": "a12f3568-339b-4938-ba6b-ebbb2be32416",
   "metadata": {},
   "outputs": [],
   "source": [
    "photo_strings = S.split(\"\\n\")"
   ]
  },
  {
   "cell_type": "code",
   "execution_count": 78,
   "id": "9d9f0301-be33-4465-a0a8-b3189951fbea",
   "metadata": {},
   "outputs": [],
   "source": [
    "from datetime import datetime"
   ]
  },
  {
   "cell_type": "code",
   "execution_count": 83,
   "id": "5ff40659-4772-4a6b-b5b7-1eaf189ef320",
   "metadata": {},
   "outputs": [
    {
     "name": "stdout",
     "output_type": "stream",
     "text": [
      "2016-02-29 22:13:11\n"
     ]
    },
    {
     "data": {
      "text/plain": [
       "datetime.datetime(2016, 2, 29, 22, 13, 11)"
      ]
     },
     "execution_count": 83,
     "metadata": {},
     "output_type": "execute_result"
    }
   ],
   "source": [
    "print(timestamp)\n"
   ]
  },
  {
   "cell_type": "code",
   "execution_count": 144,
   "id": "b6d34630-38d0-43dd-990f-65ae1cac87c6",
   "metadata": {},
   "outputs": [],
   "source": [
    "t = \"PAris\""
   ]
  },
  {
   "cell_type": "code",
   "execution_count": 146,
   "id": "5451c9a1-dc2c-466e-8495-f428180fac01",
   "metadata": {},
   "outputs": [
    {
     "data": {
      "text/plain": [
       "'paris'"
      ]
     },
     "execution_count": 146,
     "metadata": {},
     "output_type": "execute_result"
    }
   ],
   "source": [
    "t.lower()"
   ]
  },
  {
   "cell_type": "code",
   "execution_count": 149,
   "id": "b6a35862-f714-4a07-b033-7eac13d3f151",
   "metadata": {},
   "outputs": [],
   "source": []
  },
  {
   "cell_type": "code",
   "execution_count": 150,
   "id": "78027353-3069-47bb-bd59-b92748ac2fea",
   "metadata": {},
   "outputs": [],
   "source": [
    "from collections import defaultdict\n",
    "\n",
    "camel_case = lambda t : t[0].capitalize() + t[1:].lower()\n",
    "date_format = \"%Y-%m-%d %H:%M:%S\"\n",
    "metadata = {}\n",
    "photos_by_city = defaultdict(list)\n",
    "for s in photo_strings:\n",
    "    name, city, time_str = s.split(\", \")\n",
    "    city = camel_case(city)\n",
    "    time = datetime.strptime(time_str, date_format)\n",
    "    ext = name.split(\".\")[-1]\n",
    "    metadata[s] = {\"full_name\" : s, \"city\" : city,  \"extension\" : ext, \"time\" : time}\n",
    "    photos_by_city[city].append(s)\n",
    "\n",
    "final_mapping = {}\n",
    "for city, photos in photos_by_city.items():\n",
    "    city_metadata = list(map(metadata.get,photos))\n",
    "    city_metadata_sorted = sorted(city_metadata, key=lambda d: d['time'])\n",
    "    n_elements = len(city_metadata_sorted)\n",
    "    for i, meta in enumerate(city_metadata_sorted):\n",
    "        number_str = str(i + 1).rjust(len(str(n_elements)), \"0\")\n",
    "        new_name = f\"{meta.get('city')}{number_str}.{meta.get('extension')}\"\n",
    "        final_mapping[meta[\"full_name\"]] = new_name\n",
    "\n",
    "output = \"\"\n",
    "for s in photo_strings:\n",
    "    output += f\"{final_mapping[s]}\\n\""
   ]
  },
  {
   "cell_type": "code",
   "execution_count": 135,
   "id": "ab8f2536-c02e-46e7-8889-c16639f73370",
   "metadata": {},
   "outputs": [],
   "source": []
  },
  {
   "cell_type": "code",
   "execution_count": null,
   "id": "96801e4f-4ab9-4eeb-957a-b6ecbe829143",
   "metadata": {},
   "outputs": [],
   "source": []
  },
  {
   "cell_type": "code",
   "execution_count": 136,
   "id": "a386aede-df75-4508-83ce-65c1f5ec53b3",
   "metadata": {},
   "outputs": [
    {
     "data": {
      "text/plain": [
       "False"
      ]
     },
     "execution_count": 136,
     "metadata": {},
     "output_type": "execute_result"
    }
   ],
   "source": [
    "output == obj"
   ]
  },
  {
   "cell_type": "code",
   "execution_count": 133,
   "id": "1c394552-db4b-4928-82bd-2b0d4b981033",
   "metadata": {},
   "outputs": [
    {
     "name": "stdout",
     "output_type": "stream",
     "text": [
      "Warsaw02.jpg\n",
      "London1.png\n",
      "Warsaw01.png\n",
      "Paris2.jpg\n",
      "Paris1.jpg\n",
      "London2.jpg\n",
      "Paris3.png\n",
      "Warsaw03.jpg\n",
      "Warsaw09.png\n",
      "Warsaw07.jpg\n",
      "Warsaw06.jpg\n",
      "Warsaw08.jpg\n",
      "Warsaw04.png\n",
      "Warsaw05.png\n",
      "Warsaw10.jpg\n",
      "\n"
     ]
    }
   ],
   "source": [
    "print(output)"
   ]
  },
  {
   "cell_type": "code",
   "execution_count": 120,
   "id": "fa6272ab-1b0d-479e-bc6d-fbc93c6ce607",
   "metadata": {},
   "outputs": [
    {
     "name": "stdout",
     "output_type": "stream",
     "text": [
      "01\n",
      "02\n",
      "03\n",
      "04\n",
      "05\n",
      "06\n",
      "07\n",
      "08\n",
      "09\n",
      "10\n"
     ]
    }
   ],
   "source": [
    "n_elements = len(city_metadata_sorted)\n",
    "for i in range(1, n_elements + 1):\n",
    "    output_name = str(i).rjust(len(str(n_elements)), \"0\")\n",
    "    print(output_name)"
   ]
  },
  {
   "cell_type": "code",
   "execution_count": 117,
   "id": "366d4888-c50f-4bea-873b-4ff00e034c65",
   "metadata": {},
   "outputs": [
    {
     "data": {
      "text/plain": [
       "'10'"
      ]
     },
     "execution_count": 117,
     "metadata": {},
     "output_type": "execute_result"
    }
   ],
   "source": [
    "output_name"
   ]
  },
  {
   "cell_type": "code",
   "execution_count": 111,
   "id": "1be36923-f188-489e-accf-ff8113867365",
   "metadata": {},
   "outputs": [],
   "source": [
    "e = \"ddd\""
   ]
  },
  {
   "cell_type": "code",
   "execution_count": 113,
   "id": "2e1aafee-d999-439b-aa74-53ddbca3f3eb",
   "metadata": {},
   "outputs": [
    {
     "data": {
      "text/plain": [
       "'0000000ddd'"
      ]
     },
     "execution_count": 113,
     "metadata": {},
     "output_type": "execute_result"
    }
   ],
   "source": [
    "e.rjust(10, \"0\")"
   ]
  },
  {
   "cell_type": "code",
   "execution_count": 110,
   "id": "137d3f61-e977-4ca1-9b1b-8f832eacb7df",
   "metadata": {},
   "outputs": [
    {
     "data": {
      "text/plain": [
       "10"
      ]
     },
     "execution_count": 110,
     "metadata": {},
     "output_type": "execute_result"
    }
   ],
   "source": [
    "len(city_metadata_sorted)"
   ]
  },
  {
   "cell_type": "code",
   "execution_count": 106,
   "id": "056a9593-9e2c-4b10-8575-a52fe4bb110a",
   "metadata": {},
   "outputs": [
    {
     "data": {
      "text/plain": [
       "[{'full_name': 'pisatower.jpg, Paris, 2015-07-22 23:59:59',\n",
       "  'city': 'Paris',\n",
       "  'extension': 'jpg',\n",
       "  'time': datetime.datetime(2015, 7, 22, 23, 59, 59)},\n",
       " {'full_name': 'Eiffel.jpg, Paris, 2015-07-23 08:03:02',\n",
       "  'city': 'Paris',\n",
       "  'extension': 'jpg',\n",
       "  'time': datetime.datetime(2015, 7, 23, 8, 3, 2)},\n",
       " {'full_name': 'notredame.png, Paris, 2015-09-01 12:00:00',\n",
       "  'city': 'Paris',\n",
       "  'extension': 'png',\n",
       "  'time': datetime.datetime(2015, 9, 1, 12, 0)}]"
      ]
     },
     "execution_count": 106,
     "metadata": {},
     "output_type": "execute_result"
    }
   ],
   "source": [
    "city_metadata_sorted"
   ]
  },
  {
   "cell_type": "code",
   "execution_count": 151,
   "id": "a6d4deb8-6854-48f4-bf59-1b2276a731d9",
   "metadata": {},
   "outputs": [
    {
     "data": {
      "text/plain": [
       "['Eiffel.jpg, Paris, 2015-07-23 08:03:02',\n",
       " 'pisatower.jpg, Paris, 2015-07-22 23:59:59',\n",
       " 'notredame.png, Paris, 2015-09-01 12:00:00']"
      ]
     },
     "execution_count": 151,
     "metadata": {},
     "output_type": "execute_result"
    }
   ],
   "source": [
    "photos"
   ]
  },
  {
   "cell_type": "code",
   "execution_count": 71,
   "id": "31965a87-5a84-4aa5-8218-8f773d4b76f5",
   "metadata": {},
   "outputs": [
    {
     "data": {
      "text/plain": [
       "['photo.jpg, Warsaw, 2013-09-05 14:08:15',\n",
       " 'john.png, London, 2015-06-20 15:13:22',\n",
       " 'myFriends.png, Warsaw, 2013-09-05 14:07:13',\n",
       " 'Eiffel.jpg, Paris, 2015-07-23 08:03:02',\n",
       " 'pisatower.jpg, Paris, 2015-07-22 23:59:59',\n",
       " 'BOB.jpg, London, 2015-08-05 00:02:03',\n",
       " 'notredame.png, Paris, 2015-09-01 12:00:00',\n",
       " 'me.jpg, Warsaw, 2013-09-06 15:40:22',\n",
       " 'a.png, Warsaw, 2016-02-13 13:33:50',\n",
       " 'b.jpg, Warsaw, 2016-01-02 15:12:22',\n",
       " 'c.jpg, Warsaw, 2016-01-02 14:34:30',\n",
       " 'd.jpg, Warsaw, 2016-01-02 15:15:01',\n",
       " 'e.png, Warsaw, 2016-01-02 09:49:09',\n",
       " 'f.png, Warsaw, 2016-01-02 10:55:32',\n",
       " 'g.jpg, Warsaw, 2016-02-29 22:13:11']"
      ]
     },
     "execution_count": 71,
     "metadata": {},
     "output_type": "execute_result"
    }
   ],
   "source": [
    "photos_by_city"
   ]
  },
  {
   "cell_type": "code",
   "execution_count": 167,
   "id": "a9e86362-606e-4903-8452-b4cbd1668a05",
   "metadata": {},
   "outputs": [
    {
     "data": {
      "text/plain": [
       "(2, 2)"
      ]
     },
     "execution_count": 167,
     "metadata": {},
     "output_type": "execute_result"
    }
   ],
   "source": [
    "tuple([2,2])"
   ]
  },
  {
   "cell_type": "code",
   "execution_count": 168,
   "id": "f7bfa70d-d175-46ef-93de-63e745149dc4",
   "metadata": {},
   "outputs": [
    {
     "name": "stdout",
     "output_type": "stream",
     "text": [
      "/Users/juanluis/Documents/catfit\n"
     ]
    }
   ],
   "source": [
    "!pwd"
   ]
  },
  {
   "cell_type": "code",
   "execution_count": 171,
   "id": "bba047a4-35e2-4f1a-a96b-946b5564f220",
   "metadata": {},
   "outputs": [],
   "source": [
    "imp0rt = 1"
   ]
  },
  {
   "cell_type": "code",
   "execution_count": 172,
   "id": "7abfab07-a96e-4e67-8a0b-662a54a85482",
   "metadata": {},
   "outputs": [
    {
     "ename": "ModuleNotFoundError",
     "evalue": "No module named 'imp0rt'",
     "output_type": "error",
     "traceback": [
      "\u001b[0;31m---------------------------------------------------------------------------\u001b[0m",
      "\u001b[0;31mModuleNotFoundError\u001b[0m                       Traceback (most recent call last)",
      "\u001b[0;32m/var/folders/cx/865gkv912xj3_mfvrtptff_r0000gp/T/ipykernel_60659/1908775809.py\u001b[0m in \u001b[0;36m<module>\u001b[0;34m\u001b[0m\n\u001b[0;32m----> 1\u001b[0;31m \u001b[0;32mimport\u001b[0m \u001b[0mimp0rt\u001b[0m\u001b[0;34m\u001b[0m\u001b[0;34m\u001b[0m\u001b[0m\n\u001b[0m",
      "\u001b[0;31mModuleNotFoundError\u001b[0m: No module named 'imp0rt'"
     ]
    }
   ],
   "source": [
    "import imp0rt"
   ]
  },
  {
   "cell_type": "code",
   "execution_count": null,
   "id": "9b2d7219-22b9-41e5-b244-30fd3cedbe30",
   "metadata": {},
   "outputs": [],
   "source": []
  }
 ],
 "metadata": {
  "kernelspec": {
   "display_name": "tfm",
   "language": "python",
   "name": "tfm"
  },
  "language_info": {
   "codemirror_mode": {
    "name": "ipython",
    "version": 3
   },
   "file_extension": ".py",
   "mimetype": "text/x-python",
   "name": "python",
   "nbconvert_exporter": "python",
   "pygments_lexer": "ipython3",
   "version": "3.8.12"
  }
 },
 "nbformat": 4,
 "nbformat_minor": 5
}
