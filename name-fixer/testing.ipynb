{
 "cells": [
  {
   "cell_type": "code",
   "execution_count": 2,
   "id": "fd248e6b-04ba-4d38-9c5a-bf87043efa55",
   "metadata": {},
   "outputs": [],
   "source": [
    "import pandas as pd\n",
    "\n",
    "df = pd.read_parquet(\"./df_es_clean_augmented.parquet\")\n"
   ]
  },
  {
   "cell_type": "code",
   "execution_count": 3,
   "id": "2a42b846-67ea-4b4c-a919-abaa7e1f7307",
   "metadata": {},
   "outputs": [],
   "source": [
    "df_sample = df.sample(1000)"
   ]
  },
  {
   "cell_type": "code",
   "execution_count": 79,
   "id": "f9913209-cfe9-4ef3-84bf-4edae204d252",
   "metadata": {},
   "outputs": [],
   "source": [
    "from transformers import T5Tokenizer, T5ForConditionalGeneration, Trainer, TrainingArguments\n",
    "\n",
    "# Initialize the T5 tokenizer and model (T5-small in this case)\n",
    "tokenizer = T5Tokenizer.from_pretrained(\"t5-small\")\n",
    "model = T5ForConditionalGeneration.from_pretrained(\"./results\")\n",
    "\n",
    "\n"
   ]
  },
  {
   "cell_type": "code",
   "execution_count": 8,
   "id": "75d5e8cf-77d6-455a-bec5-12ed955464c4",
   "metadata": {},
   "outputs": [
    {
     "name": "stdout",
     "output_type": "stream",
     "text": [
      "María José Morcillo Arenas\n"
     ]
    }
   ],
   "source": [
    "input_text = df_sample.input.sample().values[0]\n",
    "print(input_text)"
   ]
  },
  {
   "cell_type": "code",
   "execution_count": 98,
   "id": "5be90d44-ac4b-49aa-a2ff-6e1931d1834d",
   "metadata": {},
   "outputs": [],
   "source": [
    "input_text = \" ñ á é í ó ú\"\n"
   ]
  },
  {
   "cell_type": "code",
   "execution_count": 99,
   "id": "bf6d050a-03e6-439e-beec-c740e9872e60",
   "metadata": {},
   "outputs": [
    {
     "name": "stdout",
     "output_type": "stream",
     "text": [
      "Predicted answer: á|É  ó |M\n"
     ]
    }
   ],
   "source": [
    "\n",
    "# Tokenize the input\n",
    "input_ids = tokenizer(input_text, return_tensors=\"pt\").input_ids\n",
    "\n",
    "# Generate the answer using the model\n",
    "output_ids = model.generate(input_ids)\n",
    "\n",
    "# Decode the generated tokens to get the predicted answer\n",
    "predicted_answer = tokenizer.decode(output_ids[0], skip_special_tokens=True)\n",
    "\n",
    "# Print the predicted answer\n",
    "print(f\"Predicted answer: {predicted_answer}\")  # Predicted answer: yes\n",
    " "
   ]
  },
  {
   "cell_type": "code",
   "execution_count": 75,
   "id": "855cd7c3-c7cd-483b-b8b2-e50c972bfd23",
   "metadata": {},
   "outputs": [],
   "source": [
    "tokenizer2 = T5Tokenizer.from_pretrained(\"google/t5-v1_1-small\")  # Try this first\n"
   ]
  },
  {
   "cell_type": "code",
   "execution_count": 77,
   "id": "58d5cb6a-f101-4643-b3c9-7711787fefb5",
   "metadata": {},
   "outputs": [
    {
     "name": "stdout",
     "output_type": "stream",
     "text": [
      "Tokenized: tensor([[3, 2, 1]])\n",
      "Decoded: <unk></s>\n"
     ]
    }
   ],
   "source": [
    "tokenized = tokenizer(\"ñ\", return_tensors=\"pt\")\n",
    "decoded = tokenizer.decode(tokenized[\"input_ids\"][0])\n",
    "\n",
    "print(\"Tokenized:\", tokenized[\"input_ids\"])\n",
    "print(\"Decoded:\", decoded)"
   ]
  }
 ],
 "metadata": {
  "kernelspec": {
   "display_name": "ad-generation",
   "language": "python",
   "name": "ad-generation"
  },
  "language_info": {
   "codemirror_mode": {
    "name": "ipython",
    "version": 3
   },
   "file_extension": ".py",
   "mimetype": "text/x-python",
   "name": "python",
   "nbconvert_exporter": "python",
   "pygments_lexer": "ipython3",
   "version": "3.11.0"
  }
 },
 "nbformat": 4,
 "nbformat_minor": 5
}
